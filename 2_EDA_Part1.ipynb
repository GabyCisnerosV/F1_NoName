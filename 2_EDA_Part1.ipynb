{
 "cells": [
  {
   "cell_type": "markdown",
   "metadata": {},
   "source": [
    "# F1 EDA\n",
    "#### PART 1: \n",
    "\n",
    "Here I answer some questions regarding drivers, races, and seasons."
   ]
  },
  {
   "cell_type": "code",
   "execution_count": 1,
   "metadata": {},
   "outputs": [
    {
     "data": {
      "text/html": [
       "<img src=\"https://i.giphy.com/media/v1.Y2lkPTc5MGI3NjExNWl6ajhnaDU4aHVteGpmamk2Z3BkdXd3NDFwY3BybG9uMHB2MzZtcSZlcD12MV9pbnRlcm5hbF9naWZfYnlfaWQmY3Q9Zw/sA50TO4Ew7QXu/giphy.gif\"/>"
      ],
      "text/plain": [
       "<IPython.core.display.Image object>"
      ]
     },
     "execution_count": 1,
     "metadata": {},
     "output_type": "execute_result"
    }
   ],
   "source": [
    "from IPython.display import Image\n",
    "from IPython.core.display import HTML \n",
    "Image(url= \"https://i.giphy.com/media/v1.Y2lkPTc5MGI3NjExNWl6ajhnaDU4aHVteGpmamk2Z3BkdXd3NDFwY3BybG9uMHB2MzZtcSZlcD12MV9pbnRlcm5hbF9naWZfYnlfaWQmY3Q9Zw/sA50TO4Ew7QXu/giphy.gif\")"
   ]
  },
  {
   "cell_type": "markdown",
   "metadata": {},
   "source": [
    "## 1) Importing Packages and Data"
   ]
  },
  {
   "cell_type": "code",
   "execution_count": 2,
   "metadata": {},
   "outputs": [],
   "source": [
    "import pandas as pd\n",
    "import numpy as np\n",
    "import F1_Preprocessing #Internal package to preprocess data\n",
    "import seaborn as sns\n",
    "import matplotlib.pyplot as plt\n",
    "import plotly.express as px\n",
    "import plotly.graph_objects as go\n",
    "\n",
    "np.random.seed(1994)"
   ]
  },
  {
   "cell_type": "code",
   "execution_count": null,
   "metadata": {},
   "outputs": [],
   "source": [
    "#The data stored in this path is obtained from the API of https://ergast.com/mrd/. It is continuously updated.\n",
    "#To update this data please run the file \"1_API_Requests_Ergast.py\"\n",
    "\n",
    "path = 'C:/Users/gabri/Dropbox/Gaby/Proyectos/My_Portafolio/F1/Data/'\n",
    "\n",
    "ResultsDF=pd.read_csv(path+\"ResultsDF.csv\")\n",
    "QualifyingDF=pd.read_csv(path+\"QualifyingDF.csv\")\n",
    "LapsDF=pd.read_csv(path+\"LapsDF.csv\")\n",
    "PitsDF=pd.read_csv(path+\"PitsDF.csv\")"
   ]
  },
  {
   "cell_type": "markdown",
   "metadata": {},
   "source": [
    "## 2) Data Preprocessing"
   ]
  },
  {
   "cell_type": "code",
   "execution_count": null,
   "metadata": {},
   "outputs": [],
   "source": [
    "# Apply the data preprocessing for each df using a function stored in the repo. \n",
    "# This is done this way so the preprocessing is consistent throughout all notebooks.\n",
    "ResultsDF=F1_Preprocessing.preprocess_F1results(ResultsDF)\n",
    "LapsDF=F1_Preprocessing.preprocess_F1laps(LapsDF)\n",
    "PitsDF=F1_Preprocessing.preprocess_F1pits(PitsDF)"
   ]
  },
  {
   "cell_type": "code",
   "execution_count": null,
   "metadata": {},
   "outputs": [],
   "source": [
    "# Merging features between dfs\n",
    "\n",
    "# Laps and Pits\n",
    "Laps_Pits=pd.merge(LapsDF,PitsDF[[\"season\",\"round\",\"driverid\",\"pit_stop_lap_number\",\"pit_stop_time\",\"pit_stop_duration_in_milliseconds\",\"pit_stop_number\"]],\n",
    "                   left_on=[\"driverid\",\"season\",\"round\",\"current_lap_number\"],\n",
    "                   right_on=[\"driverid\",\"season\",\"round\",\"pit_stop_lap_number\"],how=\"left\")\n",
    "\n",
    "# We only have information of the pit stops from 2012, so Laps_Pits will have instances from 2012 or later\n",
    "Laps_Pits=Laps_Pits[Laps_Pits[\"season\"]>=2012]\n",
    "\n",
    "# Merging with Results df\n",
    "SelectedResults=ResultsDF[['final_position', 'final_points', 'final_grid', 'final_laps', 'final_status', 'driverid','driver.nationality', 'constructor.constructorid', 'constructor.nationality', 'race_time.millis','fastestlap.rank', 'fastestlap.lap','fastestlap.time.time', 'fastestlap.averagespeed.units','fastestlap.averagespeed.speed', 'season', 'round','fastestlap.time.in_milliseconds', 'season-round','circuit.circuitid_encoded', 'constructor.constructorid_encoded','driverid_encoded']]\n",
    "\n",
    "Laps_Pits_Results=pd.merge(Laps_Pits,SelectedResults,on=[\"driverid\",\"season\",\"round\"],how=\"left\")\n"
   ]
  },
  {
   "cell_type": "code",
   "execution_count": null,
   "metadata": {},
   "outputs": [],
   "source": [
    "# Adding extra features\n",
    "\n",
    "#Feature created to indicated if the lap is the fastest or not\n",
    "Laps_Pits_Results['IsFastestLap']=np.where(Laps_Pits_Results['current_lap_number'] == Laps_Pits_Results['fastestlap.lap'], 1, 0)\n",
    "Laps_Pits_Results['IsPitStopLap']=np.where(Laps_Pits_Results['current_lap_number'] == Laps_Pits_Results['pit_stop_lap_number'], 1, 0)"
   ]
  },
  {
   "cell_type": "markdown",
   "metadata": {},
   "source": [
    "## 3) Answering some questions with EDA"
   ]
  },
  {
   "cell_type": "markdown",
   "metadata": {},
   "source": [
    "### A. How fast are the cars now?"
   ]
  },
  {
   "cell_type": "markdown",
   "metadata": {},
   "source": [
    "\n",
    "##### Distributon of the fastest lap per round (race) per driver from season 2014 to 2024 \n",
    "\n",
    "In this graph we can see the fastest lap, per race, per driver, and per season. The label at the bottom of each season shows the name of the driver who did the fastest lap of the year and the name of the circuit of the fastest lap."
   ]
  },
  {
   "cell_type": "code",
   "execution_count": null,
   "metadata": {},
   "outputs": [],
   "source": [
    "sns.set_theme(style=\"whitegrid\", palette=\"magma\",font_scale=1.2,font=\"DejaVu Sans\")\n",
    "\n",
    "From_Season=2014\n",
    "DF=ResultsDF[(ResultsDF[\"season\"]>=From_Season)&(ResultsDF[\"fastestlap.time.in_milliseconds\"]<140000)] #filter for viz reasons\n",
    "\n",
    "#Fastest lap per driver per season\n",
    "fastest_lap_per_season=DF.groupby([\"season\"])[\"fastestlap.time.in_milliseconds\"].min().reset_index().rename(columns={\"fastestlap.time.in_milliseconds\":\"fastestlap_season\"})\n",
    "labels_df=ResultsDF.merge(fastest_lap_per_season,on=\"season\",how=\"left\")\n",
    "labels_df=labels_df[labels_df[\"fastestlap.time.in_milliseconds\"]==labels_df[\"fastestlap_season\"]].reset_index()[[\"driverid\",\"circuit.circuitname\",\"fastestlap.time.in_milliseconds\",\"season\"]].drop_duplicates()\n",
    "\n",
    "\n",
    "#Plot\n",
    "fig, ax = plt.subplots(figsize=(25, 10))\n",
    "sns.scatterplot(x=\"season\", y=\"fastestlap.time.in_milliseconds\",hue='constructor.name',ci=None,estimator=\"min\",markers=True,data=DF)\n",
    "sns.lineplot(x=\"season\", y=\"fastestlap.time.in_milliseconds\",estimator=\"mean\",ci=None,data=DF)\n",
    "\n",
    "ax.set(xlabel=\"Season\", ylabel=\"Fastest Lap in Milliseconds\")\n",
    "ax.set_title(\"\\n Fastest Lap per Driver, per Race, from 2014 until 2024 \\n\",fontsize=20,fontweight='bold')\n",
    "\n",
    "seasons = DF[\"season\"].unique()\n",
    "ax.set_xticks(seasons)\n",
    "ax.set_xticklabels(seasons, rotation=90)  \n",
    "ax.locator_params(axis=\"x\", nbins=len(seasons))\n",
    "\n",
    "ax.legend(bbox_to_anchor=(0.5, -0.4), loc='lower center', title=\"F1 Teams\", ncol=6)\n",
    "\n",
    "# Annotattions:\n",
    "for driver, circuit, time, season in labels_df.to_numpy():\n",
    "    label = f\"{driver}\\n{circuit}\"\n",
    "    ax.annotate(label, \n",
    "                (season, time), \n",
    "                textcoords=\"offset points\", \n",
    "                xytext=(0, -25),\n",
    "                ha='center')\n",
    "\n",
    "plt.show()\n"
   ]
  },
  {
   "cell_type": "markdown",
   "metadata": {},
   "source": [
    "The above graph is good to give an idea of how fast the cars run. We can see that the cars are getting faster and that the Red Bull Ring is the one with the shortest lap of the calendar. \n",
    "\n",
    "In the graph below we can see the fastest lap by driver and filter by circuit using the legend. \n",
    "\n",
    "IMPORTANT: This is a Plotly graph, it can be seen when downloading the notebook, not in GitHub."
   ]
  },
  {
   "cell_type": "code",
   "execution_count": null,
   "metadata": {},
   "outputs": [],
   "source": [
    "# Filter data\n",
    "From_Season = 2014\n",
    "DF = ResultsDF[(ResultsDF[\"season\"] >= From_Season)]\n",
    "\n",
    "fig = px.scatter(DF, x='season', y='fastestlap.time.in_milliseconds',color='circuit.circuitname',hover_data=['constructor.name','driverid'])\n",
    "\n",
    "# Update layout\n",
    "fig.update_layout(xaxis_title=\"Season\",\n",
    "                  yaxis_title=\"Fastest Lap Time (Milliseconds)\",\n",
    "                  title_text=f\"Fastest Laps by circuit (2014-2024)\",\n",
    "                  title_font=dict(size=24, color='black', weight='bold'), \n",
    "                  title_x=0.5,\n",
    "                  legend_title=\"Circuit\")\n",
    "\n",
    "# Show the interactive plot\n",
    "fig.show()\n"
   ]
  }
 ],
 "metadata": {
  "kernelspec": {
   "display_name": "Python 3",
   "language": "python",
   "name": "python3"
  },
  "language_info": {
   "codemirror_mode": {
    "name": "ipython",
    "version": 3
   },
   "file_extension": ".py",
   "mimetype": "text/x-python",
   "name": "python",
   "nbconvert_exporter": "python",
   "pygments_lexer": "ipython3",
   "version": "3.10.4"
  }
 },
 "nbformat": 4,
 "nbformat_minor": 2
}
