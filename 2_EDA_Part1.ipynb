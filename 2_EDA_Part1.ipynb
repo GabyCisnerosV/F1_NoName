{
 "cells": [
  {
   "cell_type": "markdown",
   "metadata": {},
   "source": [
    "# F1 EDA\n",
    "#### PART 1: \n",
    "\n",
    "Here I answer some questions regarding drivers, races, and seasons."
   ]
  },
  {
   "cell_type": "code",
   "execution_count": 1,
   "metadata": {},
   "outputs": [
    {
     "data": {
      "text/html": [
       "<img src=\"https://i.giphy.com/media/v1.Y2lkPTc5MGI3NjExNWl6ajhnaDU4aHVteGpmamk2Z3BkdXd3NDFwY3BybG9uMHB2MzZtcSZlcD12MV9pbnRlcm5hbF9naWZfYnlfaWQmY3Q9Zw/sA50TO4Ew7QXu/giphy.gif\"/>"
      ],
      "text/plain": [
       "<IPython.core.display.Image object>"
      ]
     },
     "execution_count": 1,
     "metadata": {},
     "output_type": "execute_result"
    }
   ],
   "source": [
    "from IPython.display import Image\n",
    "from IPython.core.display import HTML \n",
    "Image(url= \"https://i.giphy.com/media/v1.Y2lkPTc5MGI3NjExNWl6ajhnaDU4aHVteGpmamk2Z3BkdXd3NDFwY3BybG9uMHB2MzZtcSZlcD12MV9pbnRlcm5hbF9naWZfYnlfaWQmY3Q9Zw/sA50TO4Ew7QXu/giphy.gif\")"
   ]
  },
  {
   "cell_type": "markdown",
   "metadata": {},
   "source": [
    "## 1) Importing Packages and Data"
   ]
  },
  {
   "cell_type": "code",
   "execution_count": 2,
   "metadata": {},
   "outputs": [],
   "source": [
    "import pandas as pd\n",
    "import numpy as np\n",
    "import F1_Preprocessing #Internal package to preprocess data\n",
    "np.random.seed(1994)"
   ]
  },
  {
   "cell_type": "code",
   "execution_count": 3,
   "metadata": {},
   "outputs": [
    {
     "name": "stderr",
     "output_type": "stream",
     "text": [
      "C:\\Users\\gabri\\AppData\\Local\\Temp\\ipykernel_17052\\478565046.py:8: DtypeWarning: Columns (18) have mixed types. Specify dtype option on import or set low_memory=False.\n",
      "  LapsDF=pd.read_csv(path+\"LapsDF.csv\")\n"
     ]
    }
   ],
   "source": [
    "#The data stored in this path is obtained from the API of https://ergast.com/mrd/. It is continuously updated.\n",
    "#To update this data please run the file \"1_API_Requests_Ergast.py\"\n",
    "\n",
    "path = 'C:/Users/gabri/Dropbox/Gaby/Proyectos/My_Portafolio/F1/Data/'\n",
    "\n",
    "ResultsDF=pd.read_csv(path+\"ResultsDF.csv\")\n",
    "QualifyingDF=pd.read_csv(path+\"QualifyingDF.csv\")\n",
    "LapsDF=pd.read_csv(path+\"LapsDF.csv\")\n",
    "PitsDF=pd.read_csv(path+\"PitsDF.csv\")"
   ]
  },
  {
   "cell_type": "markdown",
   "metadata": {},
   "source": [
    "## 2) Data Preprocessing"
   ]
  },
  {
   "cell_type": "code",
   "execution_count": 4,
   "metadata": {},
   "outputs": [],
   "source": [
    "# Apply the data preprocessing for each df. \n",
    "# This is done this way so the preprocessing is consistent thorughout all notebooks.\n",
    "ResultsDF=F1_Preprocessing.preprocess_F1results(ResultsDF)\n",
    "LapsDF=F1_Preprocessing.preprocess_F1laps(LapsDF)\n",
    "PitsDF=F1_Preprocessing.preprocess_F1pits(PitsDF)\n",
    "\n",
    "# Merging features between dfs\n",
    "Laps_Pits=pd.merge(LapsDF,PitsDF[[\"season\",\"round\",\"driverid\",\"lap_number\",\"pit_stop_time\",\"pit_stop_duration_in_milliseconds\",\"pit_stop_number\"]],\n",
    "                   left_on=[\"driverid\",\"season\",\"round\",\"current_lap_number\"],\n",
    "                   right_on=[\"driverid\",\"season\",\"round\",\"lap_number\"],how=\"left\")\n",
    "\n",
    "# We only have information of the pit stops from 2012, so Laps_Pits will have instances from 2012 or later\n",
    "Laps_Pits=Laps_Pits[Laps_Pits[\"season\"]>=2012]"
   ]
  },
  {
   "cell_type": "code",
   "execution_count": null,
   "metadata": {},
   "outputs": [],
   "source": []
  }
 ],
 "metadata": {
  "kernelspec": {
   "display_name": "Python 3",
   "language": "python",
   "name": "python3"
  },
  "language_info": {
   "codemirror_mode": {
    "name": "ipython",
    "version": 3
   },
   "file_extension": ".py",
   "mimetype": "text/x-python",
   "name": "python",
   "nbconvert_exporter": "python",
   "pygments_lexer": "ipython3",
   "version": "3.10.4"
  }
 },
 "nbformat": 4,
 "nbformat_minor": 2
}
