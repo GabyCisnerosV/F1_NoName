{
 "cells": [
  {
   "cell_type": "markdown",
   "metadata": {},
   "source": [
    "# F1 EDA\n",
    "#### PART 1: \n",
    "\n",
    "Here I answer some questions regarding drivers, races, and seasons."
   ]
  },
  {
   "cell_type": "code",
   "execution_count": 1,
   "metadata": {},
   "outputs": [
    {
     "data": {
      "text/html": [
       "<img src=\"https://i.giphy.com/media/v1.Y2lkPTc5MGI3NjExNWl6ajhnaDU4aHVteGpmamk2Z3BkdXd3NDFwY3BybG9uMHB2MzZtcSZlcD12MV9pbnRlcm5hbF9naWZfYnlfaWQmY3Q9Zw/sA50TO4Ew7QXu/giphy.gif\"/>"
      ],
      "text/plain": [
       "<IPython.core.display.Image object>"
      ]
     },
     "execution_count": 1,
     "metadata": {},
     "output_type": "execute_result"
    }
   ],
   "source": [
    "from IPython.display import Image\n",
    "from IPython.core.display import HTML \n",
    "Image(url= \"https://i.giphy.com/media/v1.Y2lkPTc5MGI3NjExNWl6ajhnaDU4aHVteGpmamk2Z3BkdXd3NDFwY3BybG9uMHB2MzZtcSZlcD12MV9pbnRlcm5hbF9naWZfYnlfaWQmY3Q9Zw/sA50TO4Ew7QXu/giphy.gif\")"
   ]
  },
  {
   "cell_type": "markdown",
   "metadata": {},
   "source": [
    "## 1) Importing Packages and Data"
   ]
  },
  {
   "cell_type": "code",
   "execution_count": 2,
   "metadata": {},
   "outputs": [],
   "source": [
    "import pandas as pd\n",
    "import numpy as np\n",
    "import F1_Preprocessing #Internal package to preprocess data\n",
    "np.random.seed(1994)"
   ]
  },
  {
   "cell_type": "code",
   "execution_count": 3,
   "metadata": {},
   "outputs": [
    {
     "name": "stderr",
     "output_type": "stream",
     "text": [
      "C:\\Users\\gabri\\AppData\\Local\\Temp\\ipykernel_24088\\478565046.py:8: DtypeWarning: Columns (18) have mixed types. Specify dtype option on import or set low_memory=False.\n",
      "  LapsDF=pd.read_csv(path+\"LapsDF.csv\")\n"
     ]
    }
   ],
   "source": [
    "#The data stored in this path is obtained from the API of https://ergast.com/mrd/. It is continuously updated.\n",
    "#To update this data please run the file \"1_API_Requests_Ergast.py\"\n",
    "\n",
    "path = 'C:/Users/gabri/Dropbox/Gaby/Proyectos/My_Portafolio/F1/Data/'\n",
    "\n",
    "ResultsDF=pd.read_csv(path+\"ResultsDF.csv\")\n",
    "QualifyingDF=pd.read_csv(path+\"QualifyingDF.csv\")\n",
    "LapsDF=pd.read_csv(path+\"LapsDF.csv\")\n",
    "PitsDF=pd.read_csv(path+\"PitsDF.csv\")"
   ]
  },
  {
   "cell_type": "markdown",
   "metadata": {},
   "source": [
    "## 2) Data Preprocessing"
   ]
  },
  {
   "cell_type": "code",
   "execution_count": 4,
   "metadata": {},
   "outputs": [],
   "source": [
    "# Apply the data preprocessing for each df using a function stored in the repo. \n",
    "# This is done this way so the preprocessing is consistent throughout all notebooks.\n",
    "ResultsDF=F1_Preprocessing.preprocess_F1results(ResultsDF)\n",
    "LapsDF=F1_Preprocessing.preprocess_F1laps(LapsDF)\n",
    "PitsDF=F1_Preprocessing.preprocess_F1pits(PitsDF)"
   ]
  },
  {
   "cell_type": "code",
   "execution_count": 7,
   "metadata": {},
   "outputs": [],
   "source": [
    "# Merging features between dfs\n",
    "\n",
    "# Laps and Pits\n",
    "Laps_Pits=pd.merge(LapsDF,PitsDF[[\"season\",\"round\",\"driverid\",\"pit_stop_lap_number\",\"pit_stop_time\",\"pit_stop_duration_in_milliseconds\",\"pit_stop_number\"]],\n",
    "                   left_on=[\"driverid\",\"season\",\"round\",\"current_lap_number\"],\n",
    "                   right_on=[\"driverid\",\"season\",\"round\",\"pit_stop_lap_number\"],how=\"left\")\n",
    "\n",
    "# We only have information of the pit stops from 2012, so Laps_Pits will have instances from 2012 or later\n",
    "Laps_Pits=Laps_Pits[Laps_Pits[\"season\"]>=2012]\n",
    "\n",
    "# Merging with Results df\n",
    "SelectedResults=ResultsDF[['final_position', 'final_points', 'final_grid', 'final_laps', 'final_status', 'driverid','driver.nationality', 'constructor.constructorid', 'constructor.nationality', 'race_time.millis','fastestlap.rank', 'fastestlap.lap','fastestlap.time.time', 'fastestlap.averagespeed.units','fastestlap.averagespeed.speed', 'season', 'round','fastestlap.time.in_miliseconds', 'season-round','circuit.circuitid_encoded', 'constructor.constructorid_encoded','driverid_encoded']]\n",
    "\n",
    "Laps_Pits_Results=pd.merge(Laps_Pits,SelectedResults,on=[\"driverid\",\"season\",\"round\"],how=\"left\")\n"
   ]
  },
  {
   "cell_type": "code",
   "execution_count": 8,
   "metadata": {},
   "outputs": [],
   "source": [
    "# Adding extra features\n",
    "\n",
    "#Feature created to indicated if the lap is the fastest or not\n",
    "Laps_Pits_Results['IsFastestLap']=np.where(Laps_Pits_Results['current_lap_number'] == Laps_Pits_Results['fastestlap.lap'], 1, 0)\n",
    "Laps_Pits_Results['IsPitStopLap']=np.where(Laps_Pits_Results['current_lap_number'] == Laps_Pits_Results['pit_stop_lap_number'], 1, 0)"
   ]
  },
  {
   "cell_type": "code",
   "execution_count": 15,
   "metadata": {},
   "outputs": [
    {
     "name": "stdout",
     "output_type": "stream",
     "text": [
      "<class 'pandas.core.frame.DataFrame'>\n",
      "Int64Index: 317874 entries, 0 to 317873\n",
      "Data columns (total 21 columns):\n",
      " #   Column                             Non-Null Count   Dtype  \n",
      "---  ------                             --------------   -----  \n",
      " 0   final_position                     317874 non-null  int64  \n",
      " 1   final_points                       317874 non-null  float64\n",
      " 2   final_grid                         317874 non-null  int64  \n",
      " 3   final_laps                         317874 non-null  int64  \n",
      " 4   final_status                       317874 non-null  object \n",
      " 5   driver.nationality                 317874 non-null  object \n",
      " 6   constructor.constructorid          317874 non-null  object \n",
      " 7   constructor.nationality            317874 non-null  object \n",
      " 8   race_time.millis                   184713 non-null  float64\n",
      " 9   fastestlap.rank                    316228 non-null  float64\n",
      " 10  fastestlap.lap                     316228 non-null  float64\n",
      " 11  fastestlap.time.time               316228 non-null  object \n",
      " 12  fastestlap.averagespeed.units      316228 non-null  object \n",
      " 13  fastestlap.averagespeed.speed      316228 non-null  float64\n",
      " 14  fastestlap.time.in_miliseconds     316228 non-null  float64\n",
      " 15  season-round                       317874 non-null  object \n",
      " 16  circuit.circuitid_encoded          317874 non-null  int32  \n",
      " 17  constructor.constructorid_encoded  317874 non-null  int32  \n",
      " 18  driverid_encoded                   317874 non-null  int32  \n",
      " 19  IsFastestLap                       317874 non-null  int32  \n",
      " 20  IsPitStopLap                       317874 non-null  int32  \n",
      "dtypes: float64(6), int32(5), int64(3), object(7)\n",
      "memory usage: 47.3+ MB\n"
     ]
    }
   ],
   "source": [
    "Laps_Pits_Results[Laps_Pits_Results.columns[20:]].info()"
   ]
  },
  {
   "cell_type": "code",
   "execution_count": null,
   "metadata": {},
   "outputs": [],
   "source": []
  }
 ],
 "metadata": {
  "kernelspec": {
   "display_name": "Python 3",
   "language": "python",
   "name": "python3"
  },
  "language_info": {
   "codemirror_mode": {
    "name": "ipython",
    "version": 3
   },
   "file_extension": ".py",
   "mimetype": "text/x-python",
   "name": "python",
   "nbconvert_exporter": "python",
   "pygments_lexer": "ipython3",
   "version": "3.10.4"
  }
 },
 "nbformat": 4,
 "nbformat_minor": 2
}
